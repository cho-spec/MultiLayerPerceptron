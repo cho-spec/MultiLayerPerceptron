{
  "nbformat": 4,
  "nbformat_minor": 0,
  "metadata": {
    "colab": {
      "provenance": []
    },
    "kernelspec": {
      "name": "python3",
      "display_name": "Python 3"
    },
    "language_info": {
      "name": "python"
    }
  },
  "cells": [
    {
      "cell_type": "code",
      "execution_count": null,
      "metadata": {
        "id": "dwzgSzBoFNBf"
      },
      "outputs": [],
      "source": [
        "#import libraries\n",
        "import torch\n",
        "import torch.nn as nn\n",
        "import torch.optim as optim\n",
        "import torch.nn.functional as F\n",
        "from torch.utils.data import DataLoader, SubsetRandomSampler\n",
        "from torchvision import datasets, transforms\n",
        "import time\n"
      ]
    },
    {
      "cell_type": "code",
      "source": [
        "#Settings\n",
        "BATCH_SIZE = 64\n",
        "NUM_EPOCHS = 20\n",
        "DEVICE = torch.device('cuda:0' if torch.cuda.is_available() else 'cpu')"
      ],
      "metadata": {
        "id": "VIzXceiSGEfs"
      },
      "execution_count": null,
      "outputs": []
    },
    {
      "cell_type": "code",
      "source": [
        "#Prepare the Data\n",
        "transform = transforms.Compose([\n",
        "    transforms.ToTensor(),\n",
        "    transforms.Normalize((0.5,), (0.5,))\n",
        "])\n",
        "\n",
        "train_dataset = datasets.MNIST(root='./data',\n",
        "                               train=True,\n",
        "                               download=True,\n",
        "                               transform=transform)\n",
        "\n",
        "valid_dataset = datasets.MNIST(root='./data',\n",
        "                               train=True,\n",
        "                               transform=transform)\n",
        "\n",
        "test_dataset = datasets.MNIST(root='./data',\n",
        "                               train=False,\n",
        "                               transform=transform)"
      ],
      "metadata": {
        "id": "tVlaQfbdG3QE",
        "colab": {
          "base_uri": "https://localhost:8080/"
        },
        "outputId": "ddc3f0b7-36b7-4956-a6d9-c13315573577"
      },
      "execution_count": null,
      "outputs": [
        {
          "output_type": "stream",
          "name": "stdout",
          "text": [
            "Downloading http://yann.lecun.com/exdb/mnist/train-images-idx3-ubyte.gz\n",
            "Failed to download (trying next):\n",
            "HTTP Error 403: Forbidden\n",
            "\n",
            "Downloading https://ossci-datasets.s3.amazonaws.com/mnist/train-images-idx3-ubyte.gz\n",
            "Downloading https://ossci-datasets.s3.amazonaws.com/mnist/train-images-idx3-ubyte.gz to ./data/MNIST/raw/train-images-idx3-ubyte.gz\n"
          ]
        },
        {
          "output_type": "stream",
          "name": "stderr",
          "text": [
            "100%|██████████| 9912422/9912422 [00:01<00:00, 6003286.30it/s]\n"
          ]
        },
        {
          "output_type": "stream",
          "name": "stdout",
          "text": [
            "Extracting ./data/MNIST/raw/train-images-idx3-ubyte.gz to ./data/MNIST/raw\n",
            "\n",
            "Downloading http://yann.lecun.com/exdb/mnist/train-labels-idx1-ubyte.gz\n",
            "Failed to download (trying next):\n",
            "HTTP Error 403: Forbidden\n",
            "\n",
            "Downloading https://ossci-datasets.s3.amazonaws.com/mnist/train-labels-idx1-ubyte.gz\n",
            "Downloading https://ossci-datasets.s3.amazonaws.com/mnist/train-labels-idx1-ubyte.gz to ./data/MNIST/raw/train-labels-idx1-ubyte.gz\n"
          ]
        },
        {
          "output_type": "stream",
          "name": "stderr",
          "text": [
            "100%|██████████| 28881/28881 [00:00<00:00, 160850.48it/s]\n"
          ]
        },
        {
          "output_type": "stream",
          "name": "stdout",
          "text": [
            "Extracting ./data/MNIST/raw/train-labels-idx1-ubyte.gz to ./data/MNIST/raw\n",
            "\n",
            "Downloading http://yann.lecun.com/exdb/mnist/t10k-images-idx3-ubyte.gz\n",
            "Failed to download (trying next):\n",
            "HTTP Error 403: Forbidden\n",
            "\n",
            "Downloading https://ossci-datasets.s3.amazonaws.com/mnist/t10k-images-idx3-ubyte.gz\n",
            "Downloading https://ossci-datasets.s3.amazonaws.com/mnist/t10k-images-idx3-ubyte.gz to ./data/MNIST/raw/t10k-images-idx3-ubyte.gz\n"
          ]
        },
        {
          "output_type": "stream",
          "name": "stderr",
          "text": [
            "100%|██████████| 1648877/1648877 [00:01<00:00, 1492778.37it/s]\n"
          ]
        },
        {
          "output_type": "stream",
          "name": "stdout",
          "text": [
            "Extracting ./data/MNIST/raw/t10k-images-idx3-ubyte.gz to ./data/MNIST/raw\n",
            "\n",
            "Downloading http://yann.lecun.com/exdb/mnist/t10k-labels-idx1-ubyte.gz\n",
            "Failed to download (trying next):\n",
            "HTTP Error 403: Forbidden\n",
            "\n",
            "Downloading https://ossci-datasets.s3.amazonaws.com/mnist/t10k-labels-idx1-ubyte.gz\n",
            "Downloading https://ossci-datasets.s3.amazonaws.com/mnist/t10k-labels-idx1-ubyte.gz to ./data/MNIST/raw/t10k-labels-idx1-ubyte.gz\n"
          ]
        },
        {
          "output_type": "stream",
          "name": "stderr",
          "text": [
            "100%|██████████| 4542/4542 [00:00<00:00, 8377541.23it/s]\n"
          ]
        },
        {
          "output_type": "stream",
          "name": "stdout",
          "text": [
            "Extracting ./data/MNIST/raw/t10k-labels-idx1-ubyte.gz to ./data/MNIST/raw\n",
            "\n"
          ]
        }
      ]
    },
    {
      "cell_type": "code",
      "source": [
        "validation_fraction = 0.1\n",
        "\n",
        "num = int(validation_fraction * 60000)\n",
        "train_indices = torch.arange(0, 60000 - num)\n",
        "valid_indices = torch.arange(60000 - num, 60000)"
      ],
      "metadata": {
        "id": "cMN4ECBBGdnK"
      },
      "execution_count": null,
      "outputs": []
    },
    {
      "cell_type": "code",
      "source": [
        "train_sampler = SubsetRandomSampler(train_indices)\n",
        "valid_sampler = SubsetRandomSampler(valid_indices)"
      ],
      "metadata": {
        "id": "djf6FHlnHCm6"
      },
      "execution_count": null,
      "outputs": []
    },
    {
      "cell_type": "code",
      "source": [
        "train_loader = DataLoader(dataset=train_dataset,\n",
        "                          batch_size=BATCH_SIZE,\n",
        "                          drop_last=True,\n",
        "                          sampler=train_sampler)\n",
        "\n",
        "valid_loader = DataLoader(dataset=valid_dataset,\n",
        "                          batch_size=BATCH_SIZE,\n",
        "                          sampler=valid_sampler)\n",
        "\n",
        "test_loader = DataLoader(dataset=test_dataset,\n",
        "                          batch_size=BATCH_SIZE,\n",
        "                          shuffle=False)"
      ],
      "metadata": {
        "id": "rYWz7JCFHcbZ"
      },
      "execution_count": null,
      "outputs": []
    },
    {
      "cell_type": "code",
      "source": [
        "#Define the Model\n",
        "class MLP(nn.Module):\n",
        "  def __init__(self, num_features, num_hidden_1, num_hidden_2, num_classes):\n",
        "    super().__init__()\n",
        "\n",
        "    self.network = torch.nn.Sequential(\n",
        "        #1st hidden layer\n",
        "        torch.nn.Flatten(),\n",
        "        torch.nn.Linear(num_features, num_hidden_1),\n",
        "        torch.nn.BatchNorm1d(num_hidden_1),\n",
        "        torch.nn.ReLU(),\n",
        "        torch.nn.Dropout(0.5),\n",
        "        #2nd hidden layer\n",
        "        torch.nn.Linear(num_hidden_1, num_hidden_2),\n",
        "        torch.nn.BatchNorm1d(num_hidden_2),\n",
        "        torch.nn.ReLU(),\n",
        "        torch.nn.Dropout(0.3),\n",
        "        #output layer\n",
        "        torch.nn.Linear(num_hidden_2, num_classes),\n",
        "    )\n",
        "\n",
        "\n",
        "  def forward(self, x):\n",
        "    logits = self.network(x)\n",
        "    return logits"
      ],
      "metadata": {
        "id": "ubpKTnrAJvBs"
      },
      "execution_count": null,
      "outputs": []
    },
    {
      "cell_type": "code",
      "source": [
        "#Initiate Mode, Loss Function, Optimizer, and Schduler\n",
        "\n",
        "model = MLP(num_features=28*28,\n",
        "            num_hidden_1=128,\n",
        "            num_hidden_2=64,\n",
        "            num_classes=10)\n",
        "\n",
        "model = model.to(DEVICE)\n",
        "\n",
        "\n",
        "criterion = nn.CrossEntropyLoss()\n",
        "optimizer = torch.optim.SGD(model.parameters(), lr=0.1, momentum=0.9, weight_decay=0.0001)\n",
        "\n",
        "scheduler = torch.optim.lr_scheduler.ReduceLROnPlateau(optimizer,\n",
        "                                                       factor=0.1,\n",
        "                                                       mode='min')"
      ],
      "metadata": {
        "id": "xV6QQ03dOwt8"
      },
      "execution_count": null,
      "outputs": []
    },
    {
      "cell_type": "code",
      "source": [
        "#Training and Testing\n",
        "\n",
        "def compute_accuracy(data_loader):\n",
        "\n",
        "  with torch.no_grad():\n",
        "\n",
        "    correct_pred, num_examples = 0, 0\n",
        "\n",
        "    for i, (features, targets) in enumerate(data_loader):\n",
        "\n",
        "      features = features.to(DEVICE)\n",
        "      targets = targets.float().to(DEVICE)\n",
        "\n",
        "      logits = model(features)\n",
        "      _, predicted_labels = torch.max(logits,1)\n",
        "\n",
        "      num_examples += targets.size(0)\n",
        "      correct_pred += (predicted_labels == targets).sum()\n",
        "\n",
        "    return correct_pred.float()/num_examples * 100"
      ],
      "metadata": {
        "id": "UhfuOIuDQ9Oo"
      },
      "execution_count": null,
      "outputs": []
    },
    {
      "cell_type": "code",
      "source": [
        "start_time = time.time()\n",
        "minibatch_loss_list, train_acc_list, valid_acc_list = [], [], []\n",
        "\n",
        "\n",
        "for epoch in range(NUM_EPOCHS):\n",
        "\n",
        "  model.train()\n",
        "  for batch_idx, (features, targets) in enumerate(train_loader):\n",
        "\n",
        "      features = features.to(DEVICE)\n",
        "      targets = targets.to(DEVICE)\n",
        "\n",
        "      ## FORWARD AND BACK PROP\n",
        "      logits = model(features)\n",
        "      loss = criterion(logits, targets)\n",
        "      optimizer.zero_grad()\n",
        "\n",
        "      loss.backward()\n",
        "\n",
        "      ## UPDATE MODEL PARAMETERS\n",
        "      optimizer.step()\n",
        "\n",
        "\n",
        "      ## LOGGING\n",
        "      minibatch_loss_list.append(loss.item())\n",
        "      logging_interval = 100\n",
        "      if not batch_idx % logging_interval:\n",
        "        print(\"Epoch: \", epoch+1, \"/\", NUM_EPOCHS, \"| Batch \", batch_idx, \"/\", len(train_loader), f'| Loss: {loss:.4f}')\n",
        "\n",
        "\n",
        "\n",
        "  model.eval()\n",
        "  with torch.no_grad(): #save memory during interface\n",
        "    train_acc = compute_accuracy(train_loader)\n",
        "    valid_acc = compute_accuracy(valid_loader)\n",
        "    print(\"Epoch: \", epoch+1, \"/\", NUM_EPOCHS, f'| Train: {train_acc :.2f}% '\n",
        "                                               f'| Validation: {valid_acc :.2f}% ' )\n",
        "\n",
        "    train_acc_list.append(train_acc.item())\n",
        "    valid_acc_list.append(valid_acc.item())\n",
        "\n",
        "    elapsed = (time.time() - start_time)/60\n",
        "    print(\"Time elapsed: \",elapsed, \" min\")\n",
        "\n",
        "\n",
        "    scheduler.step(minibatch_loss_list[-1])\n",
        "\n",
        "\n",
        "    elapsed = (time.time() - start_time)/60\n",
        "    print(f'Total Training Time: {elapsed:.2f} min')\n",
        "\n",
        "    test_acc = compute_accuracy(test_loader)\n",
        "    print(f'Test accuracy: {test_acc:.2f}%')"
      ],
      "metadata": {
        "colab": {
          "base_uri": "https://localhost:8080/"
        },
        "id": "htQbbn5PSds_",
        "outputId": "5b15df89-eed6-44a1-fd1c-e74bdd4a6979"
      },
      "execution_count": null,
      "outputs": [
        {
          "output_type": "stream",
          "name": "stdout",
          "text": [
            "Epoch:  1 / 20 | Batch  0 / 843 | Loss: 2.4521\n",
            "Epoch:  1 / 20 | Batch  100 / 843 | Loss: 0.6199\n",
            "Epoch:  1 / 20 | Batch  200 / 843 | Loss: 0.4599\n",
            "Epoch:  1 / 20 | Batch  300 / 843 | Loss: 0.3648\n",
            "Epoch:  1 / 20 | Batch  400 / 843 | Loss: 0.4375\n",
            "Epoch:  1 / 20 | Batch  500 / 843 | Loss: 0.5042\n",
            "Epoch:  1 / 20 | Batch  600 / 843 | Loss: 0.3727\n",
            "Epoch:  1 / 20 | Batch  700 / 843 | Loss: 0.5075\n",
            "Epoch:  1 / 20 | Batch  800 / 843 | Loss: 0.1122\n",
            "Epoch:  1 / 20 | Train: 94.94% | Validation: 96.32% \n",
            "Time elapsed:  0.6007593512535095  min\n",
            "Total Training Time: 0.60 min\n",
            "Test accuracy: 94.96%\n",
            "Epoch:  2 / 20 | Batch  0 / 843 | Loss: 0.2866\n",
            "Epoch:  2 / 20 | Batch  100 / 843 | Loss: 0.5515\n",
            "Epoch:  2 / 20 | Batch  200 / 843 | Loss: 0.3326\n",
            "Epoch:  2 / 20 | Batch  300 / 843 | Loss: 0.2570\n",
            "Epoch:  2 / 20 | Batch  400 / 843 | Loss: 0.4151\n",
            "Epoch:  2 / 20 | Batch  500 / 843 | Loss: 0.1705\n",
            "Epoch:  2 / 20 | Batch  600 / 843 | Loss: 0.3053\n",
            "Epoch:  2 / 20 | Batch  700 / 843 | Loss: 0.4060\n",
            "Epoch:  2 / 20 | Batch  800 / 843 | Loss: 0.5632\n",
            "Epoch:  2 / 20 | Train: 96.30% | Validation: 97.03% \n",
            "Time elapsed:  1.2242714166641235  min\n",
            "Total Training Time: 1.22 min\n",
            "Test accuracy: 95.88%\n",
            "Epoch:  3 / 20 | Batch  0 / 843 | Loss: 0.1378\n",
            "Epoch:  3 / 20 | Batch  100 / 843 | Loss: 0.2052\n",
            "Epoch:  3 / 20 | Batch  200 / 843 | Loss: 0.3544\n",
            "Epoch:  3 / 20 | Batch  300 / 843 | Loss: 0.3045\n",
            "Epoch:  3 / 20 | Batch  400 / 843 | Loss: 0.4566\n",
            "Epoch:  3 / 20 | Batch  500 / 843 | Loss: 0.3352\n",
            "Epoch:  3 / 20 | Batch  600 / 843 | Loss: 0.3240\n",
            "Epoch:  3 / 20 | Batch  700 / 843 | Loss: 0.2642\n",
            "Epoch:  3 / 20 | Batch  800 / 843 | Loss: 0.3239\n",
            "Epoch:  3 / 20 | Train: 96.66% | Validation: 97.25% \n",
            "Time elapsed:  1.8829548319180807  min\n",
            "Total Training Time: 1.88 min\n",
            "Test accuracy: 96.35%\n",
            "Epoch:  4 / 20 | Batch  0 / 843 | Loss: 0.1436\n",
            "Epoch:  4 / 20 | Batch  100 / 843 | Loss: 0.2409\n",
            "Epoch:  4 / 20 | Batch  200 / 843 | Loss: 0.1673\n",
            "Epoch:  4 / 20 | Batch  300 / 843 | Loss: 0.2325\n",
            "Epoch:  4 / 20 | Batch  400 / 843 | Loss: 0.4802\n",
            "Epoch:  4 / 20 | Batch  500 / 843 | Loss: 0.2924\n",
            "Epoch:  4 / 20 | Batch  600 / 843 | Loss: 0.3710\n",
            "Epoch:  4 / 20 | Batch  700 / 843 | Loss: 0.4736\n",
            "Epoch:  4 / 20 | Batch  800 / 843 | Loss: 0.1621\n",
            "Epoch:  4 / 20 | Train: 96.87% | Validation: 97.13% \n",
            "Time elapsed:  2.60080672899882  min\n",
            "Total Training Time: 2.60 min\n",
            "Test accuracy: 96.70%\n",
            "Epoch:  5 / 20 | Batch  0 / 843 | Loss: 0.4448\n",
            "Epoch:  5 / 20 | Batch  100 / 843 | Loss: 0.2396\n",
            "Epoch:  5 / 20 | Batch  200 / 843 | Loss: 0.3314\n",
            "Epoch:  5 / 20 | Batch  300 / 843 | Loss: 0.2590\n",
            "Epoch:  5 / 20 | Batch  400 / 843 | Loss: 0.3218\n",
            "Epoch:  5 / 20 | Batch  500 / 843 | Loss: 0.2848\n",
            "Epoch:  5 / 20 | Batch  600 / 843 | Loss: 0.3069\n",
            "Epoch:  5 / 20 | Batch  700 / 843 | Loss: 0.2453\n",
            "Epoch:  5 / 20 | Batch  800 / 843 | Loss: 0.1707\n",
            "Epoch:  5 / 20 | Train: 97.22% | Validation: 97.65% \n",
            "Time elapsed:  3.2359267711639403  min\n",
            "Total Training Time: 3.24 min\n",
            "Test accuracy: 96.73%\n",
            "Epoch:  6 / 20 | Batch  0 / 843 | Loss: 0.1449\n",
            "Epoch:  6 / 20 | Batch  100 / 843 | Loss: 0.4057\n",
            "Epoch:  6 / 20 | Batch  200 / 843 | Loss: 0.1180\n",
            "Epoch:  6 / 20 | Batch  300 / 843 | Loss: 0.2859\n",
            "Epoch:  6 / 20 | Batch  400 / 843 | Loss: 0.2477\n",
            "Epoch:  6 / 20 | Batch  500 / 843 | Loss: 0.2103\n",
            "Epoch:  6 / 20 | Batch  600 / 843 | Loss: 0.3279\n",
            "Epoch:  6 / 20 | Batch  700 / 843 | Loss: 0.2242\n",
            "Epoch:  6 / 20 | Batch  800 / 843 | Loss: 0.2164\n",
            "Epoch:  6 / 20 | Train: 97.34% | Validation: 97.48% \n",
            "Time elapsed:  3.8620238463083902  min\n",
            "Total Training Time: 3.86 min\n",
            "Test accuracy: 96.83%\n",
            "Epoch:  7 / 20 | Batch  0 / 843 | Loss: 0.0732\n",
            "Epoch:  7 / 20 | Batch  100 / 843 | Loss: 0.0841\n",
            "Epoch:  7 / 20 | Batch  200 / 843 | Loss: 0.2539\n",
            "Epoch:  7 / 20 | Batch  300 / 843 | Loss: 0.2755\n",
            "Epoch:  7 / 20 | Batch  400 / 843 | Loss: 0.1675\n",
            "Epoch:  7 / 20 | Batch  500 / 843 | Loss: 0.1532\n",
            "Epoch:  7 / 20 | Batch  600 / 843 | Loss: 0.2491\n",
            "Epoch:  7 / 20 | Batch  700 / 843 | Loss: 0.2046\n",
            "Epoch:  7 / 20 | Batch  800 / 843 | Loss: 0.1448\n",
            "Epoch:  7 / 20 | Train: 97.53% | Validation: 97.68% \n",
            "Time elapsed:  4.509135707219442  min\n",
            "Total Training Time: 4.51 min\n",
            "Test accuracy: 97.18%\n",
            "Epoch:  8 / 20 | Batch  0 / 843 | Loss: 0.2007\n",
            "Epoch:  8 / 20 | Batch  100 / 843 | Loss: 0.1485\n",
            "Epoch:  8 / 20 | Batch  200 / 843 | Loss: 0.1242\n",
            "Epoch:  8 / 20 | Batch  300 / 843 | Loss: 0.1529\n",
            "Epoch:  8 / 20 | Batch  400 / 843 | Loss: 0.0870\n",
            "Epoch:  8 / 20 | Batch  500 / 843 | Loss: 0.2314\n",
            "Epoch:  8 / 20 | Batch  600 / 843 | Loss: 0.3237\n",
            "Epoch:  8 / 20 | Batch  700 / 843 | Loss: 0.1442\n",
            "Epoch:  8 / 20 | Batch  800 / 843 | Loss: 0.2349\n",
            "Epoch:  8 / 20 | Train: 97.59% | Validation: 97.33% \n",
            "Time elapsed:  5.150169185797373  min\n",
            "Total Training Time: 5.15 min\n",
            "Test accuracy: 97.20%\n",
            "Epoch:  9 / 20 | Batch  0 / 843 | Loss: 0.0808\n",
            "Epoch:  9 / 20 | Batch  100 / 843 | Loss: 0.2545\n",
            "Epoch:  9 / 20 | Batch  200 / 843 | Loss: 0.3450\n",
            "Epoch:  9 / 20 | Batch  300 / 843 | Loss: 0.2338\n",
            "Epoch:  9 / 20 | Batch  400 / 843 | Loss: 0.1366\n",
            "Epoch:  9 / 20 | Batch  500 / 843 | Loss: 0.3153\n",
            "Epoch:  9 / 20 | Batch  600 / 843 | Loss: 0.1653\n",
            "Epoch:  9 / 20 | Batch  700 / 843 | Loss: 0.3447\n",
            "Epoch:  9 / 20 | Batch  800 / 843 | Loss: 0.1723\n",
            "Epoch:  9 / 20 | Train: 97.39% | Validation: 97.60% \n",
            "Time elapsed:  5.797933240731557  min\n",
            "Total Training Time: 5.80 min\n",
            "Test accuracy: 97.16%\n",
            "Epoch:  10 / 20 | Batch  0 / 843 | Loss: 0.1894\n",
            "Epoch:  10 / 20 | Batch  100 / 843 | Loss: 0.1852\n",
            "Epoch:  10 / 20 | Batch  200 / 843 | Loss: 0.2595\n",
            "Epoch:  10 / 20 | Batch  300 / 843 | Loss: 0.1243\n",
            "Epoch:  10 / 20 | Batch  400 / 843 | Loss: 0.2089\n",
            "Epoch:  10 / 20 | Batch  500 / 843 | Loss: 0.1636\n",
            "Epoch:  10 / 20 | Batch  600 / 843 | Loss: 0.0963\n",
            "Epoch:  10 / 20 | Batch  700 / 843 | Loss: 0.1889\n",
            "Epoch:  10 / 20 | Batch  800 / 843 | Loss: 0.1098\n",
            "Epoch:  10 / 20 | Train: 97.46% | Validation: 97.55% \n",
            "Time elapsed:  6.427189310391744  min\n",
            "Total Training Time: 6.43 min\n",
            "Test accuracy: 96.84%\n",
            "Epoch:  11 / 20 | Batch  0 / 843 | Loss: 0.1868\n",
            "Epoch:  11 / 20 | Batch  100 / 843 | Loss: 0.2895\n",
            "Epoch:  11 / 20 | Batch  200 / 843 | Loss: 0.4814\n",
            "Epoch:  11 / 20 | Batch  300 / 843 | Loss: 0.1677\n",
            "Epoch:  11 / 20 | Batch  400 / 843 | Loss: 0.1636\n",
            "Epoch:  11 / 20 | Batch  500 / 843 | Loss: 0.2389\n",
            "Epoch:  11 / 20 | Batch  600 / 843 | Loss: 0.2036\n",
            "Epoch:  11 / 20 | Batch  700 / 843 | Loss: 0.3352\n",
            "Epoch:  11 / 20 | Batch  800 / 843 | Loss: 0.1774\n",
            "Epoch:  11 / 20 | Train: 97.73% | Validation: 97.77% \n",
            "Time elapsed:  7.059952934583028  min\n",
            "Total Training Time: 7.06 min\n",
            "Test accuracy: 97.03%\n",
            "Epoch:  12 / 20 | Batch  0 / 843 | Loss: 0.2555\n",
            "Epoch:  12 / 20 | Batch  100 / 843 | Loss: 0.1357\n",
            "Epoch:  12 / 20 | Batch  200 / 843 | Loss: 0.1931\n",
            "Epoch:  12 / 20 | Batch  300 / 843 | Loss: 0.0953\n",
            "Epoch:  12 / 20 | Batch  400 / 843 | Loss: 0.1987\n",
            "Epoch:  12 / 20 | Batch  500 / 843 | Loss: 0.2149\n",
            "Epoch:  12 / 20 | Batch  600 / 843 | Loss: 0.2205\n",
            "Epoch:  12 / 20 | Batch  700 / 843 | Loss: 0.2138\n",
            "Epoch:  12 / 20 | Batch  800 / 843 | Loss: 0.1887\n",
            "Epoch:  12 / 20 | Train: 97.73% | Validation: 97.62% \n",
            "Time elapsed:  7.693711590766907  min\n",
            "Total Training Time: 7.69 min\n",
            "Test accuracy: 97.15%\n",
            "Epoch:  13 / 20 | Batch  0 / 843 | Loss: 0.3550\n",
            "Epoch:  13 / 20 | Batch  100 / 843 | Loss: 0.1524\n",
            "Epoch:  13 / 20 | Batch  200 / 843 | Loss: 0.2715\n",
            "Epoch:  13 / 20 | Batch  300 / 843 | Loss: 0.1137\n",
            "Epoch:  13 / 20 | Batch  400 / 843 | Loss: 0.4034\n",
            "Epoch:  13 / 20 | Batch  500 / 843 | Loss: 0.0478\n",
            "Epoch:  13 / 20 | Batch  600 / 843 | Loss: 0.1226\n",
            "Epoch:  13 / 20 | Batch  700 / 843 | Loss: 0.3694\n",
            "Epoch:  13 / 20 | Batch  800 / 843 | Loss: 0.1998\n",
            "Epoch:  13 / 20 | Train: 97.64% | Validation: 97.68% \n",
            "Time elapsed:  8.331625680128733  min\n",
            "Total Training Time: 8.33 min\n",
            "Test accuracy: 97.04%\n",
            "Epoch:  14 / 20 | Batch  0 / 843 | Loss: 0.1624\n",
            "Epoch:  14 / 20 | Batch  100 / 843 | Loss: 0.1419\n",
            "Epoch:  14 / 20 | Batch  200 / 843 | Loss: 0.2040\n",
            "Epoch:  14 / 20 | Batch  300 / 843 | Loss: 0.1598\n",
            "Epoch:  14 / 20 | Batch  400 / 843 | Loss: 0.2305\n",
            "Epoch:  14 / 20 | Batch  500 / 843 | Loss: 0.1712\n",
            "Epoch:  14 / 20 | Batch  600 / 843 | Loss: 0.1790\n",
            "Epoch:  14 / 20 | Batch  700 / 843 | Loss: 0.1335\n",
            "Epoch:  14 / 20 | Batch  800 / 843 | Loss: 0.4949\n",
            "Epoch:  14 / 20 | Train: 97.86% | Validation: 97.77% \n",
            "Time elapsed:  8.977392983436584  min\n",
            "Total Training Time: 8.98 min\n",
            "Test accuracy: 97.25%\n",
            "Epoch:  15 / 20 | Batch  0 / 843 | Loss: 0.1839\n",
            "Epoch:  15 / 20 | Batch  100 / 843 | Loss: 0.2460\n",
            "Epoch:  15 / 20 | Batch  200 / 843 | Loss: 0.2123\n",
            "Epoch:  15 / 20 | Batch  300 / 843 | Loss: 0.0749\n",
            "Epoch:  15 / 20 | Batch  400 / 843 | Loss: 0.4768\n",
            "Epoch:  15 / 20 | Batch  500 / 843 | Loss: 0.1496\n",
            "Epoch:  15 / 20 | Batch  600 / 843 | Loss: 0.1165\n",
            "Epoch:  15 / 20 | Batch  700 / 843 | Loss: 0.1014\n",
            "Epoch:  15 / 20 | Batch  800 / 843 | Loss: 0.1642\n",
            "Epoch:  15 / 20 | Train: 97.87% | Validation: 97.93% \n",
            "Time elapsed:  9.616303630669911  min\n",
            "Total Training Time: 9.62 min\n",
            "Test accuracy: 97.31%\n",
            "Epoch:  16 / 20 | Batch  0 / 843 | Loss: 0.2160\n",
            "Epoch:  16 / 20 | Batch  100 / 843 | Loss: 0.1896\n",
            "Epoch:  16 / 20 | Batch  200 / 843 | Loss: 0.1704\n",
            "Epoch:  16 / 20 | Batch  300 / 843 | Loss: 0.1467\n",
            "Epoch:  16 / 20 | Batch  400 / 843 | Loss: 0.2938\n",
            "Epoch:  16 / 20 | Batch  500 / 843 | Loss: 0.2149\n",
            "Epoch:  16 / 20 | Batch  600 / 843 | Loss: 0.1322\n",
            "Epoch:  16 / 20 | Batch  700 / 843 | Loss: 0.1454\n",
            "Epoch:  16 / 20 | Batch  800 / 843 | Loss: 0.1352\n",
            "Epoch:  16 / 20 | Train: 97.92% | Validation: 97.80% \n",
            "Time elapsed:  10.239359498023987  min\n",
            "Total Training Time: 10.24 min\n",
            "Test accuracy: 97.45%\n",
            "Epoch:  17 / 20 | Batch  0 / 843 | Loss: 0.2512\n",
            "Epoch:  17 / 20 | Batch  100 / 843 | Loss: 0.1575\n",
            "Epoch:  17 / 20 | Batch  200 / 843 | Loss: 0.3302\n",
            "Epoch:  17 / 20 | Batch  300 / 843 | Loss: 0.1254\n",
            "Epoch:  17 / 20 | Batch  400 / 843 | Loss: 0.1046\n",
            "Epoch:  17 / 20 | Batch  500 / 843 | Loss: 0.3180\n",
            "Epoch:  17 / 20 | Batch  600 / 843 | Loss: 0.2208\n",
            "Epoch:  17 / 20 | Batch  700 / 843 | Loss: 0.1032\n",
            "Epoch:  17 / 20 | Batch  800 / 843 | Loss: 0.1618\n",
            "Epoch:  17 / 20 | Train: 97.91% | Validation: 97.93% \n",
            "Time elapsed:  10.864738535881042  min\n",
            "Total Training Time: 10.86 min\n",
            "Test accuracy: 97.40%\n",
            "Epoch:  18 / 20 | Batch  0 / 843 | Loss: 0.0762\n",
            "Epoch:  18 / 20 | Batch  100 / 843 | Loss: 0.1691\n",
            "Epoch:  18 / 20 | Batch  200 / 843 | Loss: 0.1064\n",
            "Epoch:  18 / 20 | Batch  300 / 843 | Loss: 0.2198\n",
            "Epoch:  18 / 20 | Batch  400 / 843 | Loss: 0.0741\n",
            "Epoch:  18 / 20 | Batch  500 / 843 | Loss: 0.2233\n",
            "Epoch:  18 / 20 | Batch  600 / 843 | Loss: 0.1101\n",
            "Epoch:  18 / 20 | Batch  700 / 843 | Loss: 0.3715\n",
            "Epoch:  18 / 20 | Batch  800 / 843 | Loss: 0.3402\n",
            "Epoch:  18 / 20 | Train: 97.85% | Validation: 97.63% \n",
            "Time elapsed:  11.501047190030416  min\n",
            "Total Training Time: 11.50 min\n",
            "Test accuracy: 97.16%\n",
            "Epoch:  19 / 20 | Batch  0 / 843 | Loss: 0.1370\n",
            "Epoch:  19 / 20 | Batch  100 / 843 | Loss: 0.1225\n",
            "Epoch:  19 / 20 | Batch  200 / 843 | Loss: 0.2114\n",
            "Epoch:  19 / 20 | Batch  300 / 843 | Loss: 0.0983\n",
            "Epoch:  19 / 20 | Batch  400 / 843 | Loss: 0.1038\n",
            "Epoch:  19 / 20 | Batch  500 / 843 | Loss: 0.2459\n",
            "Epoch:  19 / 20 | Batch  600 / 843 | Loss: 0.1483\n",
            "Epoch:  19 / 20 | Batch  700 / 843 | Loss: 0.1753\n",
            "Epoch:  19 / 20 | Batch  800 / 843 | Loss: 0.3357\n",
            "Epoch:  19 / 20 | Train: 97.89% | Validation: 97.83% \n",
            "Time elapsed:  12.12528525988261  min\n",
            "Total Training Time: 12.13 min\n",
            "Test accuracy: 97.35%\n",
            "Epoch:  20 / 20 | Batch  0 / 843 | Loss: 0.1835\n",
            "Epoch:  20 / 20 | Batch  100 / 843 | Loss: 0.1320\n",
            "Epoch:  20 / 20 | Batch  200 / 843 | Loss: 0.2563\n",
            "Epoch:  20 / 20 | Batch  300 / 843 | Loss: 0.1817\n",
            "Epoch:  20 / 20 | Batch  400 / 843 | Loss: 0.2124\n",
            "Epoch:  20 / 20 | Batch  500 / 843 | Loss: 0.3776\n",
            "Epoch:  20 / 20 | Batch  600 / 843 | Loss: 0.2380\n",
            "Epoch:  20 / 20 | Batch  700 / 843 | Loss: 0.1553\n",
            "Epoch:  20 / 20 | Batch  800 / 843 | Loss: 0.1998\n",
            "Epoch:  20 / 20 | Train: 98.07% | Validation: 97.93% \n",
            "Time elapsed:  12.765336390336355  min\n",
            "Total Training Time: 12.77 min\n",
            "Test accuracy: 97.27%\n"
          ]
        }
      ]
    },
    {
      "cell_type": "code",
      "source": [
        "import matplotlib.pyplot as plt\n",
        "plt.plot(range(len(minibatch_loss_list)), minibatch_loss_list)\n",
        "plt.xlabel('Iterations')\n",
        "plt.ylabel('Loss')\n"
      ],
      "metadata": {
        "colab": {
          "base_uri": "https://localhost:8080/",
          "height": 466
        },
        "id": "k1lY8FqdXQ7_",
        "outputId": "05f9ef31-9159-493a-d80c-ee626c2b9308"
      },
      "execution_count": null,
      "outputs": [
        {
          "output_type": "execute_result",
          "data": {
            "text/plain": [
              "Text(0, 0.5, 'Loss')"
            ]
          },
          "metadata": {},
          "execution_count": 11
        },
        {
          "output_type": "display_data",
          "data": {
            "text/plain": [
              "<Figure size 640x480 with 1 Axes>"
            ],
            "image/png": "[encoded data removed]"
          },
          "metadata": {}
        }
      ]
    },
    {
      "cell_type": "code",
      "source": [
        "import numpy as np\n",
        "num_epochs = len(train_acc_list)\n",
        "plt.plot(np.arange(1, num_epochs+1),\n",
        "train_acc_list, label='Training')\n",
        "plt.plot(np.arange(1, num_epochs+1),\n",
        "valid_acc_list, label='Validation')\n",
        "plt.xlabel('Epoch')\n",
        "plt.ylabel('Accuracy')\n",
        "plt.legend()"
      ],
      "metadata": {
        "colab": {
          "base_uri": "https://localhost:8080/",
          "height": 466
        },
        "id": "R42KWZAmcqDg",
        "outputId": "7d343933-993b-41f3-f1bd-857d11e47774"
      },
      "execution_count": null,
      "outputs": [
        {
          "output_type": "execute_result",
          "data": {
            "text/plain": [
              "<matplotlib.legend.Legend at 0x7eadc3eb0430>"
            ]
          },
          "metadata": {},
          "execution_count": 12
        },
        {
          "output_type": "display_data",
          "data": {
            "text/plain": [
              "<Figure size 640x480 with 1 Axes>"
            ],
            "image/png": "[encoded data removed]"
          },
          "metadata": {}
        }
      ]
    }
  ]
}